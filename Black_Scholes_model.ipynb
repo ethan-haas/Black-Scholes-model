{
  "nbformat": 4,
  "nbformat_minor": 0,
  "metadata": {
    "colab": {
      "provenance": []
    },
    "kernelspec": {
      "name": "python3",
      "display_name": "Python 3"
    },
    "language_info": {
      "name": "python"
    }
  },
  "cells": [
    {
      "cell_type": "code",
      "execution_count": 1,
      "metadata": {
        "colab": {
          "base_uri": "https://localhost:8080/"
        },
        "id": "mHfddeSkS7ht",
        "outputId": "fe53249b-a950-4dab-af88-cfb860994625"
      },
      "outputs": [
        {
          "output_type": "stream",
          "name": "stdout",
          "text": [
            "Looking in indexes: https://pypi.org/simple, https://us-python.pkg.dev/colab-wheels/public/simple/\n",
            "Collecting wallstreet\n",
            "  Downloading wallstreet-0.3.2-py3-none-any.whl (8.1 kB)\n",
            "Requirement already satisfied: requests<3.0,>=2.12 in /usr/local/lib/python3.10/dist-packages (from wallstreet) (2.27.1)\n",
            "Requirement already satisfied: scipy<2.0,>=1.5 in /usr/local/lib/python3.10/dist-packages (from wallstreet) (1.10.1)\n",
            "Requirement already satisfied: urllib3<1.27,>=1.21.1 in /usr/local/lib/python3.10/dist-packages (from requests<3.0,>=2.12->wallstreet) (1.26.15)\n",
            "Requirement already satisfied: idna<4,>=2.5 in /usr/local/lib/python3.10/dist-packages (from requests<3.0,>=2.12->wallstreet) (3.4)\n",
            "Requirement already satisfied: charset-normalizer~=2.0.0 in /usr/local/lib/python3.10/dist-packages (from requests<3.0,>=2.12->wallstreet) (2.0.12)\n",
            "Requirement already satisfied: certifi>=2017.4.17 in /usr/local/lib/python3.10/dist-packages (from requests<3.0,>=2.12->wallstreet) (2022.12.7)\n",
            "Requirement already satisfied: numpy<1.27.0,>=1.19.5 in /usr/local/lib/python3.10/dist-packages (from scipy<2.0,>=1.5->wallstreet) (1.22.4)\n",
            "Installing collected packages: wallstreet\n",
            "Successfully installed wallstreet-0.3.2\n"
          ]
        }
      ],
      "source": [
        "!pip install wallstreet"
      ]
    },
    {
      "cell_type": "code",
      "source": [
        "# Imports\n",
        "import numpy as np\n",
        "import pandas as pd\n",
        "from scipy.stats import norm\n",
        "from datetime import datetime\n",
        "from wallstreet import Stock, Call, Put\n",
        "import concurrent.futures"
      ],
      "metadata": {
        "id": "nOdmeddDS-WB"
      },
      "execution_count": 2,
      "outputs": []
    },
    {
      "cell_type": "code",
      "source": [
        "# Variables\n",
        "ticker = \"AAPL\"\n",
        "risk_free_rate = 0.034"
      ],
      "metadata": {
        "id": "8R0fTsn_TCHx"
      },
      "execution_count": 3,
      "outputs": []
    },
    {
      "cell_type": "code",
      "source": [
        "def black_scholes(stock_price, strike_price, time_to_expiry, risk_free_rate, volatility, option_type):\n",
        "    d1 = (np.log(stock_price / strike_price) + (risk_free_rate + 0.5 * volatility ** 2) * time_to_expiry) / (volatility * np.sqrt(time_to_expiry))\n",
        "    d2 = d1 - volatility * np.sqrt(time_to_expiry)\n",
        "    \n",
        "    if option_type == \"call\":\n",
        "        option_value = stock_price * norm.cdf(d1) - strike_price * np.exp(-risk_free_rate * time_to_expiry) * norm.cdf(d2)\n",
        "    elif option_type == \"put\":\n",
        "        option_value = strike_price * np.exp(-risk_free_rate * time_to_expiry) * norm.cdf(-d2) - stock_price * norm.cdf(-d1)\n",
        "    else:\n",
        "        raise ValueError(\"Invalid option type: must be 'call' or 'put'\")\n",
        "\n",
        "    return option_value\n",
        "\n",
        "def filter_positive_value_diff(options_df):\n",
        "    return options_df[options_df[\"value_diff\"] > 0]\n",
        "\n",
        "def process_expiration_date(date):\n",
        "    call_option = Call(ticker, d=date.day, m=date.month, y=date.year)\n",
        "    put_option = Put(ticker, d=date.day, m=date.month, y=date.year)\n",
        "    \n",
        "    calls = []\n",
        "    puts = []\n",
        "    \n",
        "    for strike in call_option.strikes:\n",
        "        call_option.set_strike(strike)\n",
        "        implied_volatility = call_option.implied_volatility()\n",
        "        expiration_date = datetime.strptime(call_option.expiration, \"%d-%m-%Y\")\n",
        "        time_to_expiry = (expiration_date - datetime.today()).days / 365\n",
        "        calls.append({\n",
        "            \"Contract Name\": call_option.code,\n",
        "            \"Strike\": strike,\n",
        "            \"Last Price\": call_option.price,\n",
        "            \"time_to_expiry\": time_to_expiry,\n",
        "            \"Implied Volatility\": implied_volatility,\n",
        "            \"bs_value\": black_scholes(stock_price, strike, time_to_expiry, risk_free_rate, implied_volatility, \"call\"),\n",
        "            \"value_diff\": None\n",
        "        })\n",
        "\n",
        "    for strike in put_option.strikes:\n",
        "        put_option.set_strike(strike)\n",
        "        implied_volatility = put_option.implied_volatility()\n",
        "        expiration_date = datetime.strptime(put_option.expiration, \"%d-%m-%Y\")\n",
        "        time_to_expiry = (expiration_date - datetime.today()).days / 365\n",
        "        puts.append({\n",
        "            \"Contract Name\": put_option.code,\n",
        "            \"Strike\": strike,\n",
        "            \"Last Price\": put_option.price,\n",
        "            \"time_to_expiry\": time_to_expiry,\n",
        "            \"Implied Volatility\": implied_volatility,\n",
        "            \"bs_value\": black_scholes(stock_price, strike, time_to_expiry, risk_free_rate, implied_volatility, \"put\"),\n",
        "            \"value_diff\": None\n",
        "        })\n",
        "\n",
        "    return calls, puts"
      ],
      "metadata": {
        "id": "jqdltgPDTGG8"
      },
      "execution_count": 4,
      "outputs": []
    },
    {
      "cell_type": "code",
      "source": [
        "# Get the stock price for the most recent trading day\n",
        "s = Stock(ticker)\n",
        "stock_price = s.price\n",
        "\n",
        "# Get list of expiration dates\n",
        "g = Call(ticker)\n",
        "expiration_dates = g.expirations\n",
        "date_objects = [datetime.strptime(date_str, \"%d-%m-%Y\") for date_str in expiration_dates]\n",
        "\n",
        "# Initialize empty lists for calls and puts\n",
        "all_calls = []\n",
        "all_puts = []"
      ],
      "metadata": {
        "colab": {
          "base_uri": "https://localhost:8080/"
        },
        "id": "9pK3ZoieTLOB",
        "outputId": "efb3f3e1-f7b5-4f18-8fc0-e24323e1c70c"
      },
      "execution_count": 5,
      "outputs": [
        {
          "output_type": "stream",
          "name": "stdout",
          "text": [
            "No options listed for given date, using 05-05-2023 instead\n"
          ]
        }
      ]
    },
    {
      "cell_type": "code",
      "source": [
        "# Loop through each expiration date using concurrent.futures for parallelism\n",
        "with concurrent.futures.ThreadPoolExecutor() as executor:\n",
        "    futures = [executor.submit(process_expiration_date, date) for date in date_objects]\n",
        "    \n",
        "    for future in concurrent.futures.as_completed(futures):\n",
        "        calls, puts = future.result()\n",
        "        all_calls.extend(calls)\n",
        "        all_puts.extend(puts)\n"
      ],
      "metadata": {
        "colab": {
          "base_uri": "https://localhost:8080/"
        },
        "id": "fYOmCxyrTPON",
        "outputId": "a36fab71-fc59-490c-e185-8a447f6cbbd6"
      },
      "execution_count": 6,
      "outputs": [
        {
          "output_type": "stream",
          "name": "stderr",
          "text": [
            "/usr/local/lib/python3.10/dist-packages/scipy/optimize/_minpack_py.py:178: RuntimeWarning: The iteration is not making good progress, as measured by the \n",
            "  improvement from the last ten iterations.\n",
            "  warnings.warn(msg, RuntimeWarning)\n",
            "/usr/local/lib/python3.10/dist-packages/scipy/optimize/_minpack_py.py:178: RuntimeWarning: The iteration is not making good progress, as measured by the \n",
            "  improvement from the last five Jacobian evaluations.\n",
            "  warnings.warn(msg, RuntimeWarning)\n"
          ]
        }
      ]
    },
    {
      "cell_type": "code",
      "source": [
        "all_calls = pd.DataFrame(all_calls)\n",
        "all_puts = pd.DataFrame(all_puts)\n",
        "\n",
        "all_calls[\"value_diff\"] = all_calls[\"bs_value\"] - all_calls[\"Last Price\"]\n",
        "all_puts[\"value_diff\"] = all_puts[\"bs_value\"] - all_puts[\"Last Price\"]\n",
        "\n",
        "print(\"Call Options:\")\n",
        "print(all_calls[[\"Contract Name\", \"Strike\", \"Last Price\", \"bs_value\", \"value_diff\"]])\n",
        "print(\"\\nPut Options:\")\n",
        "print(all_puts[[\"Contract Name\", \"Strike\", \"Last Price\", \"bs_value\", \"value_diff\"]])"
      ],
      "metadata": {
        "colab": {
          "base_uri": "https://localhost:8080/"
        },
        "id": "lEtFQ52LTSvt",
        "outputId": "b53f8c42-405c-4401-8bbb-9f19511edbaf"
      },
      "execution_count": 7,
      "outputs": [
        {
          "output_type": "stream",
          "name": "stdout",
          "text": [
            "Call Options:\n",
            "           Contract Name  Strike  Last Price   bs_value  value_diff\n",
            "0    AAPL230609C00100000   100.0       67.92  68.484064    0.564064\n",
            "1    AAPL230609C00135000   135.0       32.18  33.604487    1.424487\n",
            "2    AAPL230609C00140000   140.0       28.99  28.874921   -0.115079\n",
            "3    AAPL230609C00150000   150.0       21.45  21.277707   -0.172293\n",
            "4    AAPL230609C00155000   155.0       15.49  15.345471   -0.144529\n",
            "..                   ...     ...         ...        ...         ...\n",
            "920  AAPL251219C00270000   270.0        7.00   7.031730    0.031730\n",
            "921  AAPL251219C00280000   280.0        6.00   6.025882    0.025882\n",
            "922  AAPL251219C00290000   290.0        4.75   4.767107    0.017107\n",
            "923  AAPL251219C00300000   300.0        3.95   3.962263    0.012263\n",
            "924  AAPL251219C00310000   310.0        3.35   3.359027    0.009027\n",
            "\n",
            "[925 rows x 5 columns]\n",
            "\n",
            "Put Options:\n",
            "           Contract Name  Strike  Last Price    bs_value  value_diff\n",
            "0    AAPL230609P00095000    95.0        0.02    0.017692   -0.002308\n",
            "1    AAPL230609P00115000   115.0        0.13    0.120104   -0.009896\n",
            "2    AAPL230609P00120000   120.0        0.17    0.158214   -0.011786\n",
            "3    AAPL230609P00125000   125.0        0.23    0.215742   -0.014258\n",
            "4    AAPL230609P00130000   130.0        0.31    0.293063   -0.016937\n",
            "..                   ...     ...         ...         ...         ...\n",
            "822  AAPL251219P00250000   250.0       81.41   82.741455    1.331455\n",
            "823  AAPL251219P00260000   260.0      109.10  110.800972    1.700972\n",
            "824  AAPL251219P00290000   290.0      130.54  132.571913    2.031913\n",
            "825  AAPL251219P00300000   300.0      134.00  136.096092    2.096092\n",
            "826  AAPL251219P00310000   310.0      141.48  143.702953    2.222953\n",
            "\n",
            "[827 rows x 5 columns]\n"
          ]
        }
      ]
    },
    {
      "cell_type": "code",
      "source": [
        "# Write calls and puts to separate sheets in a single Excel file\n",
        "with pd.ExcelWriter(ticker + '_options_data.xlsx', engine='openpyxl') as writer:\n",
        "    all_calls.to_excel(writer, sheet_name='Calls', index=False)\n",
        "    all_puts.to_excel(writer, sheet_name='Puts', index=False)"
      ],
      "metadata": {
        "id": "lPkdEUafTYeU"
      },
      "execution_count": 8,
      "outputs": []
    },
    {
      "cell_type": "code",
      "source": [
        "# Find most undervalued call and put options\n",
        "positive_value_diff_calls = filter_positive_value_diff(all_calls)\n",
        "positive_value_diff_puts = filter_positive_value_diff(all_puts)"
      ],
      "metadata": {
        "id": "8jnHMQE-TbTj"
      },
      "execution_count": 9,
      "outputs": []
    },
    {
      "cell_type": "code",
      "source": [
        "try:\n",
        "    most_undervalued_call_idx = positive_value_diff_calls['value_diff'].idxmax()\n",
        "    most_undervalued_call = positive_value_diff_calls.loc[most_undervalued_call_idx]\n",
        "    print(\"Most undervalued call option:\")\n",
        "    print(most_undervalued_call[['Contract Name', 'Strike', 'Last Price', 'time_to_expiry', 'bs_value', 'value_diff']])\n",
        "except ValueError:\n",
        "    print(\"No undervalued call options found.\")\n",
        "\n",
        "try:\n",
        "    most_undervalued_put_idx = positive_value_diff_puts['value_diff'].idxmax()\n",
        "    most_undervalued_put = positive_value_diff_puts.loc[most_undervalued_put_idx]\n",
        "    print(\"\\nMost undervalued put option:\")\n",
        "    print(most_undervalued_put[['Contract Name', 'Strike', 'Last Price', 'time_to_expiry', 'bs_value', 'value_diff']])\n",
        "except ValueError:\n",
        "    print(\"No undervalued put options found.\")\n",
        "\n",
        "print(\"\\n\\nOptions data has been saved to '\" + ticker +  \"_options_data.xlsx'\\n\\n\")"
      ],
      "metadata": {
        "colab": {
          "base_uri": "https://localhost:8080/"
        },
        "id": "W1GraFekTdpb",
        "outputId": "fb6b816a-c229-4ecc-bb8e-69bd211514b5"
      },
      "execution_count": 10,
      "outputs": [
        {
          "output_type": "stream",
          "name": "stdout",
          "text": [
            "Most undervalued call option:\n",
            "Contract Name     AAPL230519C00065000\n",
            "Strike                           65.0\n",
            "Last Price                      67.15\n",
            "time_to_expiry               0.043836\n",
            "bs_value                   103.236805\n",
            "value_diff                  36.086805\n",
            "Name: 120, dtype: object\n",
            "\n",
            "Most undervalued put option:\n",
            "Contract Name     AAPL240621P00320000\n",
            "Strike                          320.0\n",
            "Last Price                     156.42\n",
            "time_to_expiry               1.136986\n",
            "bs_value                   159.982858\n",
            "value_diff                   3.562858\n",
            "Name: 690, dtype: object\n",
            "\n",
            "\n",
            "Options data has been saved to 'AAPL_options_data.xlsx'\n",
            "\n",
            "\n"
          ]
        }
      ]
    }
  ]
}